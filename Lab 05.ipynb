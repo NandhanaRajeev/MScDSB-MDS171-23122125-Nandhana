{
 "cells": [
  {
   "cell_type": "code",
   "execution_count": 19,
   "metadata": {},
   "outputs": [
    {
     "name": "stdout",
     "output_type": "stream",
     "text": [
      "Count\n",
      " The total number of vowels is = 3\n",
      "Count of  A is 3\n",
      "Count of  E is 0\n",
      "Count of  I is 0\n",
      "Count of  O is 0\n",
      "Count of  U is 0\n",
      "\n",
      "Vowels are 37.5 % in the word NANDHANA\n"
     ]
    }
   ],
   "source": [
    "def fn(str):\n",
    "    count=[0]*5 \n",
    "#setting totalvowels=0\n",
    "    totalvowels=0 \n",
    "    vowels =[\"A\",\"E\",\"I\",\"O\",\"U\"]\n",
    "    print(\"Count\")\n",
    "    for j in range(0,5):\n",
    "        for i in str:\n",
    "            if vowels[j] == i:\n",
    "                count[j] = count[j]+1\n",
    "                totalvowels = totalvowels+1\n",
    "    print(\" The total number of vowels is =\", totalvowels)  \n",
    "    for i in range(0,5):\n",
    "        print(\"Count of \",vowels[i],\"is\",count[i])\n",
    "    print(\"\\nVowels are\",round((totalvowels/len(str))*100,2),\"%\",\"in the word\",str) #to find the percentage                 \n",
    "\n",
    "word = input(\"Enter the word\")\n",
    "word = word.strip() # removes spaces\n",
    "word = word.upper() # .upper() used for changing into uppercase\n",
    "fn(word)  # function calling"
   ]
  },
  {
   "cell_type": "code",
   "execution_count": 1,
   "metadata": {},
   "outputs": [
    {
     "name": "stdout",
     "output_type": "stream",
     "text": [
      "[0, 0, 0, 0, 0]\n"
     ]
    }
   ],
   "source": [
    "count=[0]*5\n",
    "print(count)"
   ]
  },
  {
   "cell_type": "code",
   "execution_count": null,
   "metadata": {},
   "outputs": [],
   "source": []
  }
 ],
 "metadata": {
  "kernelspec": {
   "display_name": "Python 3",
   "language": "python",
   "name": "python3"
  },
  "language_info": {
   "codemirror_mode": {
    "name": "ipython",
    "version": 3
   },
   "file_extension": ".py",
   "mimetype": "text/x-python",
   "name": "python",
   "nbconvert_exporter": "python",
   "pygments_lexer": "ipython3",
   "version": "3.11.4"
  },
  "orig_nbformat": 4
 },
 "nbformat": 4,
 "nbformat_minor": 2
}
