{
 "cells": [
  {
   "cell_type": "code",
   "execution_count": 19,
   "metadata": {},
   "outputs": [
    {
     "name": "stdout",
     "output_type": "stream",
     "text": [
      "Count\n",
      " The total number of vowels is = 3\n",
      "Count of  A is 3\n",
      "Count of  E is 0\n",
      "Count of  I is 0\n",
      "Count of  O is 0\n",
      "Count of  U is 0\n",
      "\n",
      "Vowels are 37.5 % in the word NANDHANA\n"
     ]
    }
   ],
   "source": [
    "def fn(str):\n",
    "    count=[0]*5 \n",
    "#setting totalvowels=0\n",
    "    totalvowels=0 \n",
    "    vowels =[\"A\",\"E\",\"I\",\"O\",\"U\"]\n",
    "    print(\"Count\")\n",
    "    for j in range(0,5):\n",
    "        for i in str:\n",
    "            if vowels[j] == i:\n",
    "                count[j] = count[j]+1\n",
    "                totalvowels = totalvowels+1\n",
    "    print(\" The total number of vowels is =\", totalvowels)  \n",
    "    for i in range(0,5):\n",
    "        print(\"Count of \",vowels[i],\"is\",count[i])\n",
    "    print(\"\\nVowels are\",round((totalvowels/len(str))*100,2),\"%\",\"in the word\",str) #to find the percentage                 \n",
    "\n",
    "word = input(\"Enter the word\")\n",
    "word = word.strip() # removes spaces\n",
    "word = word.upper() # .upper() used for changing into uppercase\n",
    "fn(word)  # function calling"
   ]
  },
  {
   "cell_type": "code",
   "execution_count": 1,
   "metadata": {},
   "outputs": [
    {
     "name": "stdout",
     "output_type": "stream",
     "text": [
      "[0, 0, 0, 0, 0]\n"
     ]
    }
   ],
   "source": [
    "count=[0]*5\n",
    "print(count)"
   ]
  },
  {
   "cell_type": "code",
   "execution_count": 7,
   "metadata": {},
   "outputs": [
    {
     "name": "stdout",
     "output_type": "stream",
     "text": [
      "[0, 0, 0, 0, 0]\n"
     ]
    },
    {
     "ename": "TypeError",
     "evalue": "'str' object cannot be interpreted as an integer",
     "output_type": "error",
     "traceback": [
      "\u001b[1;31m---------------------------------------------------------------------------\u001b[0m",
      "\u001b[1;31mTypeError\u001b[0m                                 Traceback (most recent call last)",
      "\u001b[1;32mc:\\Users\\User\\Desktop\\CERTIFICATES\\Github\\MScDSB-MDS171-23122125-Nandhana\\MScDSB-MDS171-23122125-Nandhana\\Lab 05.ipynb Cell 3\u001b[0m line \u001b[0;36m1\n\u001b[0;32m     <a href='vscode-notebook-cell:/c%3A/Users/User/Desktop/CERTIFICATES/Github/MScDSB-MDS171-23122125-Nandhana/MScDSB-MDS171-23122125-Nandhana/Lab%2005.ipynb#W2sZmlsZQ%3D%3D?line=16'>17</a>\u001b[0m word\u001b[39m=\u001b[39mword\u001b[39m.\u001b[39mstrip()\n\u001b[0;32m     <a href='vscode-notebook-cell:/c%3A/Users/User/Desktop/CERTIFICATES/Github/MScDSB-MDS171-23122125-Nandhana/MScDSB-MDS171-23122125-Nandhana/Lab%2005.ipynb#W2sZmlsZQ%3D%3D?line=17'>18</a>\u001b[0m word\u001b[39m=\u001b[39mword\u001b[39m.\u001b[39mupper()\n\u001b[1;32m---> <a href='vscode-notebook-cell:/c%3A/Users/User/Desktop/CERTIFICATES/Github/MScDSB-MDS171-23122125-Nandhana/MScDSB-MDS171-23122125-Nandhana/Lab%2005.ipynb#W2sZmlsZQ%3D%3D?line=18'>19</a>\u001b[0m fn(word)\n",
      "\u001b[1;32mc:\\Users\\User\\Desktop\\CERTIFICATES\\Github\\MScDSB-MDS171-23122125-Nandhana\\MScDSB-MDS171-23122125-Nandhana\\Lab 05.ipynb Cell 3\u001b[0m line \u001b[0;36m7\n\u001b[0;32m      <a href='vscode-notebook-cell:/c%3A/Users/User/Desktop/CERTIFICATES/Github/MScDSB-MDS171-23122125-Nandhana/MScDSB-MDS171-23122125-Nandhana/Lab%2005.ipynb#W2sZmlsZQ%3D%3D?line=4'>5</a>\u001b[0m \u001b[39mprint\u001b[39m(count)\n\u001b[0;32m      <a href='vscode-notebook-cell:/c%3A/Users/User/Desktop/CERTIFICATES/Github/MScDSB-MDS171-23122125-Nandhana/MScDSB-MDS171-23122125-Nandhana/Lab%2005.ipynb#W2sZmlsZQ%3D%3D?line=5'>6</a>\u001b[0m \u001b[39mfor\u001b[39;00m j \u001b[39min\u001b[39;00m \u001b[39mrange\u001b[39m(\u001b[39m0\u001b[39m,\u001b[39m5\u001b[39m):\n\u001b[1;32m----> <a href='vscode-notebook-cell:/c%3A/Users/User/Desktop/CERTIFICATES/Github/MScDSB-MDS171-23122125-Nandhana/MScDSB-MDS171-23122125-Nandhana/Lab%2005.ipynb#W2sZmlsZQ%3D%3D?line=6'>7</a>\u001b[0m     \u001b[39mfor\u001b[39;00m i \u001b[39min\u001b[39;00m \u001b[39mrange\u001b[39;49m(\u001b[39mstr\u001b[39;49m):\n\u001b[0;32m      <a href='vscode-notebook-cell:/c%3A/Users/User/Desktop/CERTIFICATES/Github/MScDSB-MDS171-23122125-Nandhana/MScDSB-MDS171-23122125-Nandhana/Lab%2005.ipynb#W2sZmlsZQ%3D%3D?line=7'>8</a>\u001b[0m         \u001b[39mif\u001b[39;00m vowels[j]\u001b[39m==\u001b[39mi:\n\u001b[0;32m      <a href='vscode-notebook-cell:/c%3A/Users/User/Desktop/CERTIFICATES/Github/MScDSB-MDS171-23122125-Nandhana/MScDSB-MDS171-23122125-Nandhana/Lab%2005.ipynb#W2sZmlsZQ%3D%3D?line=8'>9</a>\u001b[0m             count[j]\u001b[39m=\u001b[39mcount[j]\u001b[39m+\u001b[39m\u001b[39m1\u001b[39m\n",
      "\u001b[1;31mTypeError\u001b[0m: 'str' object cannot be interpreted as an integer"
     ]
    }
   ],
   "source": [
    "def fn(str):\n",
    "    count=[0]*5\n",
    "    totalvowels=0\n",
    "    vowels=[\"A\",\"E\",\"I\",\"O\",\"U\"]\n",
    "    print(count)\n",
    "    for j in range(0,5):\n",
    "        for i in range(str):\n",
    "            if vowels[j]==i:\n",
    "                count[j]=count[j]+1\n",
    "                totalvowels=totalvowels+1\n",
    "    print(totalvowels)\n",
    "    for i in range(0,5):\n",
    "        print(\"count of\",vowels[i],\"is\",count[i])\n",
    "    print(\"\\nvoels are\",round(totalvowels/len(str)))*100\n",
    "\n",
    "word= input(\"enter the word\")\n",
    "word=word.strip()\n",
    "word=word.upper()\n",
    "fn(word)"
   ]
  },
  {
   "cell_type": "code",
   "execution_count": null,
   "metadata": {},
   "outputs": [],
   "source": []
  }
 ],
 "metadata": {
  "kernelspec": {
   "display_name": "Python 3",
   "language": "python",
   "name": "python3"
  },
  "language_info": {
   "codemirror_mode": {
    "name": "ipython",
    "version": 3
   },
   "file_extension": ".py",
   "mimetype": "text/x-python",
   "name": "python",
   "nbconvert_exporter": "python",
   "pygments_lexer": "ipython3",
   "version": "3.11.4"
  },
  "orig_nbformat": 4
 },
 "nbformat": 4,
 "nbformat_minor": 2
}
