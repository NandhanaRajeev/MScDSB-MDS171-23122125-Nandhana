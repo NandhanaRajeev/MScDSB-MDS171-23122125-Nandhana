{
 "cells": [
  {
   "cell_type": "code",
   "execution_count": 1,
   "metadata": {},
   "outputs": [
    {
     "name": "stdout",
     "output_type": "stream",
     "text": [
      "Welcome to  Farmers' Harvest in Freshville\n"
     ]
    },
    {
     "ename": "TypeError",
     "evalue": "can't multiply sequence by non-int of type 'str'",
     "output_type": "error",
     "traceback": [
      "\u001b[1;31m---------------------------------------------------------------------------\u001b[0m",
      "\u001b[1;31mTypeError\u001b[0m                                 Traceback (most recent call last)",
      "Cell \u001b[1;32mIn[1], line 6\u001b[0m\n\u001b[0;32m      4\u001b[0m rate\u001b[39m=\u001b[39m\u001b[39minput\u001b[39m(\u001b[39m\"\u001b[39m\u001b[39mrate:\u001b[39m\u001b[39m\"\u001b[39m)\n\u001b[0;32m      5\u001b[0m quantity\u001b[39m=\u001b[39m\u001b[39minput\u001b[39m(\u001b[39m\"\u001b[39m\u001b[39mEnter no of items\u001b[39m\u001b[39m\"\u001b[39m)\n\u001b[1;32m----> 6\u001b[0m total_amnt\u001b[39m=\u001b[39mrate\u001b[39m*\u001b[39;49mquantity\n\u001b[0;32m      7\u001b[0m \u001b[39mdef\u001b[39;00m \u001b[39morder\u001b[39m(name,item,rate,quantity,total_amnt):\n\u001b[0;32m      8\u001b[0m     filename\u001b[39m=\u001b[39mname\u001b[39m+\u001b[39m\u001b[39m\"\u001b[39m\u001b[39m.txt\u001b[39m\u001b[39m\"\u001b[39m\n",
      "\u001b[1;31mTypeError\u001b[0m: can't multiply sequence by non-int of type 'str'"
     ]
    }
   ],
   "source": [
    "print(\"Welcome to  Farmers' Harvest in Freshville\")\n",
    "name=input(\"Enter the customer's name:\")\n",
    "item=input(\"Enter the item name\")\n",
    "rate=input(\"rate:\")\n",
    "quantity=input(\"Enter no of items\")\n",
    "total_amnt=rate*quantity\n",
    "def order(name,item,rate,quantity,total_amnt):\n",
    "    filename=name+\".txt\"\n",
    "    with open(\"filename.text\",\"w+\") as file:\n",
    "        file.write(\"Name\\t:\\t\"+name)\n",
    "        file.write(\"\\nItem\\t:\\t\"+item)\n",
    "        file.write(\"\\nRate\\t:\\t\"+rate)\n",
    "        file.write(\"\\nQuantity\\t:\\t\"+quantity)\n",
    "        file.write(\"\\nTotal\\t:\\t\"+total_amnt)\n",
    "order(name,item,rate,quantity,total_amnt)\n",
    "\n",
    "\n",
    "\n",
    "\n"
   ]
  },
  {
   "cell_type": "code",
   "execution_count": null,
   "metadata": {},
   "outputs": [],
   "source": []
  }
 ],
 "metadata": {
  "kernelspec": {
   "display_name": "Python 3",
   "language": "python",
   "name": "python3"
  },
  "language_info": {
   "codemirror_mode": {
    "name": "ipython",
    "version": 3
   },
   "file_extension": ".py",
   "mimetype": "text/x-python",
   "name": "python",
   "nbconvert_exporter": "python",
   "pygments_lexer": "ipython3",
   "version": "3.11.4"
  },
  "orig_nbformat": 4
 },
 "nbformat": 4,
 "nbformat_minor": 2
}
