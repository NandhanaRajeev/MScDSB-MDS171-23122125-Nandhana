{
 "cells": [
  {
   "cell_type": "code",
   "execution_count": 8,
   "metadata": {},
   "outputs": [
    {
     "name": "stdout",
     "output_type": "stream",
     "text": [
      "Length is 100\n",
      "Sum of the list is 54294\n",
      "Mean of the list is 542.94\n",
      "999\n",
      "17\n",
      "982\n"
     ]
    }
   ],
   "source": [
    "lst=[761, 123, 585, 275, 194, 840, 999, 622, 763, 40, 825, 687, 402, 338, 611, 987, 739, 95, 819, 568, 320, 126, 688, 948, 514, 223, 751, 379, 857, 767, 492, 162, 437, 934, 430, 343, 725, 511, 580, 678, 708, 823, 346, 179, 786, 663, 195, 890, 267, 502, 214, 300, 786, 961, 235, 559, 992, 919, 948, 318, 57, 787, 653, 317, 305, 172, 966, 182, 970, 17, 89, 624, 629, 595, 485, 752, 984, 978, 460, 124, 321, 256, 614, 852, 811, 561, 127, 207, 406, 615, 888, 391, 691, 470, 911, 401, 137, 600, 478, 682]\n",
    "a=len(lst)\n",
    "print(\"Length is\",a)\n",
    "def mean(lst):\n",
    "    s=0\n",
    "    for i in lst:\n",
    "        s=s+i\n",
    "    return s\n",
    "b=mean(lst)\n",
    "print(\"Sum of the list is\",b)\n",
    "c=b/a\n",
    "print(\"Mean of the list is\" ,c)\n",
    "def arrange(lst):\n",
    "    maxmum=lst[0]\n",
    "    minmum=lst[0]\n",
    "    for j in lst:\n",
    "        if j>maxmum:\n",
    "            maxmum=j\n",
    "        if j<minmum:\n",
    "            minmum=j\n",
    "    range=maxmum-minmum\n",
    "    print(maxmum)\n",
    "    print(minmum)\n",
    "    print(range)\n",
    "\n",
    "mean(lst)\n",
    "arrange(lst)\n",
    "\n",
    "\n",
    "\n",
    "\n",
    "    \n",
    "\n",
    "\n"
   ]
  },
  {
   "cell_type": "code",
   "execution_count": null,
   "metadata": {},
   "outputs": [],
   "source": []
  }
 ],
 "metadata": {
  "kernelspec": {
   "display_name": "Python 3",
   "language": "python",
   "name": "python3"
  },
  "language_info": {
   "codemirror_mode": {
    "name": "ipython",
    "version": 3
   },
   "file_extension": ".py",
   "mimetype": "text/x-python",
   "name": "python",
   "nbconvert_exporter": "python",
   "pygments_lexer": "ipython3",
   "version": "3.11.4"
  },
  "orig_nbformat": 4
 },
 "nbformat": 4,
 "nbformat_minor": 2
}
