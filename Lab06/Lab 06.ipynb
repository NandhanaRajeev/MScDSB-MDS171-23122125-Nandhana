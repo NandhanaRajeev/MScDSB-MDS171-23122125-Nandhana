{
 "cells": [
  {
   "cell_type": "code",
   "execution_count": 7,
   "metadata": {},
   "outputs": [],
   "source": [
    "import random  #for importing random library\n",
    "item_list=[\"Egg\",\"Pen\",\"Pencil\",\"Eraser\",\"Book\",\"Bag\",\"Waterbottle\",\"Shoes\",\"Earings\",\"Box\"]\n",
    "item_quantity=[\"5\",\"3\",\"4\",\"2\",\"1\",\"6\",\"1\",\"7\",\"8\",\"9\"]\n",
    "item_price=[\"4\",\"5\",\"3\",\"4\",\"25\",\"750\",\"100\",\"800\",\"150\",\"200\"]\n",
    "\n",
    "file=open(\"23122125.csv\",\"w+\")\n",
    "for i in range(100):\n",
    "   r1=random.randint(0,9)\n",
    "   r2=random.randint(0,9)\n",
    "   r3=random.randint(0,9)\n",
    "   intqty=int(item_quantity[r2])\n",
    "   intprc=int(item_price[r3])\n",
    "   total=intqty*intprc\n",
    "   file.write(item_list[r1]+\",\"+item_quantity[r2]+\",\"+item_price[r3]+\"\\t Total = \"+str(total)+\"\\n\")\n",
    "file.close()   \n",
    "   \n",
    "\n",
    "\n",
    "\n",
    "    \n"
   ]
  },
  {
   "cell_type": "code",
   "execution_count": null,
   "metadata": {},
   "outputs": [],
   "source": []
  }
 ],
 "metadata": {
  "kernelspec": {
   "display_name": "Python 3",
   "language": "python",
   "name": "python3"
  },
  "language_info": {
   "codemirror_mode": {
    "name": "ipython",
    "version": 3
   },
   "file_extension": ".py",
   "mimetype": "text/x-python",
   "name": "python",
   "nbconvert_exporter": "python",
   "pygments_lexer": "ipython3",
   "version": "3.11.4"
  },
  "orig_nbformat": 4
 },
 "nbformat": 4,
 "nbformat_minor": 2
}
