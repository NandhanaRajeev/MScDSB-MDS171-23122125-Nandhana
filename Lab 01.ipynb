{
 "cells": [
  {
   "cell_type": "code",
   "execution_count": 1,
   "metadata": {},
   "outputs": [
    {
     "name": "stdout",
     "output_type": "stream",
     "text": [
      "thatha\n",
      "thatha\n",
      "thatha\n",
      "thatha\n",
      "thatha\n",
      "thatha\n",
      "thatha\n",
      "thatha\n",
      "thatha\n",
      "thatha\n",
      "thatha\n",
      "thatha\n",
      "thatha\n",
      "thatha\n",
      "thatha\n",
      "thatha\n",
      "thatha\n",
      "thatha\n",
      "thatha\n",
      "thatha\n",
      "thatha\n"
     ]
    }
   ],
   "source": [
    "#write program to print a name n times(name and 'n' can be used as user inputs)\n",
    "name= input('ENTER YOUR NAME')\n",
    "n=int(input(\"enternumber\"))\n",
    "for i in range(1,n+1):\n",
    "    print(name)"
   ]
  },
  {
   "cell_type": "code",
   "execution_count": null,
   "metadata": {},
   "outputs": [],
   "source": []
  },
  {
   "cell_type": "code",
   "execution_count": null,
   "metadata": {},
   "outputs": [],
   "source": []
  }
 ],
 "metadata": {
  "kernelspec": {
   "display_name": "Python 3",
   "language": "python",
   "name": "python3"
  },
  "language_info": {
   "codemirror_mode": {
    "name": "ipython",
    "version": 3
   },
   "file_extension": ".py",
   "mimetype": "text/x-python",
   "name": "python",
   "nbconvert_exporter": "python",
   "pygments_lexer": "ipython3",
   "version": "3.11.4"
  },
  "orig_nbformat": 4
 },
 "nbformat": 4,
 "nbformat_minor": 2
}
