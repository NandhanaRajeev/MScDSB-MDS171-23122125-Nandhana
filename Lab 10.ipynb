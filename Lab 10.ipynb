{
 "cells": [
  {
   "cell_type": "code",
   "execution_count": 36,
   "metadata": {},
   "outputs": [],
   "source": [
    "class students:\n",
    "    def __init__(self):\n",
    "        self.students = {}\n",
    "\n",
    "    def addStudents(self,id,Name,Course) :\n",
    "        temp = {\n",
    "            \"name\":Name,\n",
    "            \"course\": Course\n",
    "        }\n",
    "\n",
    "        self.students[id]= temp\n",
    "\n",
    "\n",
    "    def printing(self):\n",
    "        print(self.students)\n",
    "\n",
    "    def search_student(self,id):\n",
    "        if id in self.students:\n",
    "            print(self.students[id])\n",
    "        else:\n",
    "            print(\"not found\")\n",
    "    \n"
   ]
  },
  {
   "cell_type": "code",
   "execution_count": null,
   "metadata": {},
   "outputs": [],
   "source": [
    "haa = students()\n",
    "userinput = int(input(\"Enter the No of inputs:\"))\n",
    "for i in range (userinput):\n",
    "    id = int(input(\"Enter the ID: \"))\n",
    "    name = input(\"Enter the Name: \")\n",
    "    course = input(\"Enter the Course: \")\n",
    "    haa.addStudents(id,name,course)\n",
    "    haa.search_student(3)\n",
    "\n"
   ]
  },
  {
   "cell_type": "code",
   "execution_count": 35,
   "metadata": {},
   "outputs": [
    {
     "name": "stdout",
     "output_type": "stream",
     "text": [
      "{2: {'name': 'rahul', 'course': 'maths'}, 3: {'name': 'jeena', 'course': 'chemistry'}}\n"
     ]
    }
   ],
   "source": [
    "haa.printing()"
   ]
  },
  {
   "cell_type": "code",
   "execution_count": null,
   "metadata": {},
   "outputs": [],
   "source": []
  }
 ],
 "metadata": {
  "kernelspec": {
   "display_name": "Python 3",
   "language": "python",
   "name": "python3"
  },
  "language_info": {
   "codemirror_mode": {
    "name": "ipython",
    "version": 3
   },
   "file_extension": ".py",
   "mimetype": "text/x-python",
   "name": "python",
   "nbconvert_exporter": "python",
   "pygments_lexer": "ipython3",
   "version": "3.11.4"
  }
 },
 "nbformat": 4,
 "nbformat_minor": 2
}
