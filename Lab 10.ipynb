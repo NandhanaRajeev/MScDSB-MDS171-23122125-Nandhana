{
 "cells": [
  {
   "cell_type": "code",
   "execution_count": 36,
   "metadata": {},
   "outputs": [],
   "source": [
    "class students:\n",
    "    def __init__(self):\n",
    "        self.students = {}\n",
    "\n",
    "    def addStudents(self,id,Name,Course) :\n",
    "        temp = {\n",
    "            \"name\":Name,\n",
    "            \"course\": Course\n",
    "        }\n",
    "\n",
    "        self.students[id]= temp\n",
    "\n",
    "\n",
    "    def printing(self):\n",
    "        print(self.students)\n",
    "\n",
    "    def search_student(self,id):\n",
    "        if id in self.students:\n",
    "            print(self.students[id])\n",
    "        else:\n",
    "            print(\"not found\")\n",
    "    \n"
   ]
  },
  {
   "cell_type": "code",
   "execution_count": 37,
   "metadata": {},
   "outputs": [
    {
     "ename": "TypeError",
     "evalue": "students.search_student() missing 1 required positional argument: 'id'",
     "output_type": "error",
     "traceback": [
      "\u001b[1;31m---------------------------------------------------------------------------\u001b[0m",
      "\u001b[1;31mTypeError\u001b[0m                                 Traceback (most recent call last)",
      "\u001b[1;32mc:\\Users\\User\\Desktop\\Github\\MScDSB-MDS171-23122125-Nandhana\\MScDSB-MDS171-23122125-Nandhana\\Lab 10.ipynb Cell 2\u001b[0m line \u001b[0;36m8\n\u001b[0;32m      <a href='vscode-notebook-cell:/c%3A/Users/User/Desktop/Github/MScDSB-MDS171-23122125-Nandhana/MScDSB-MDS171-23122125-Nandhana/Lab%2010.ipynb#W3sZmlsZQ%3D%3D?line=5'>6</a>\u001b[0m course \u001b[39m=\u001b[39m \u001b[39minput\u001b[39m(\u001b[39m\"\u001b[39m\u001b[39mEnter the Course: \u001b[39m\u001b[39m\"\u001b[39m)\n\u001b[0;32m      <a href='vscode-notebook-cell:/c%3A/Users/User/Desktop/Github/MScDSB-MDS171-23122125-Nandhana/MScDSB-MDS171-23122125-Nandhana/Lab%2010.ipynb#W3sZmlsZQ%3D%3D?line=6'>7</a>\u001b[0m haa\u001b[39m.\u001b[39maddStudents(\u001b[39mid\u001b[39m,name,course)\n\u001b[1;32m----> <a href='vscode-notebook-cell:/c%3A/Users/User/Desktop/Github/MScDSB-MDS171-23122125-Nandhana/MScDSB-MDS171-23122125-Nandhana/Lab%2010.ipynb#W3sZmlsZQ%3D%3D?line=7'>8</a>\u001b[0m haa\u001b[39m.\u001b[39;49msearch_student()\n",
      "\u001b[1;31mTypeError\u001b[0m: students.search_student() missing 1 required positional argument: 'id'"
     ]
    }
   ],
   "source": [
    "haa = students()\n",
    "userinput = int(input(\"Enter the No of inputs:\"))\n",
    "for i in range (userinput):\n",
    "    id = int(input(\"Enter the ID: \"))\n",
    "    name = input(\"Enter the Name: \")\n",
    "    course = input(\"Enter the Course: \")\n",
    "    haa.addStudents(id,name,course)\n",
    "    haa.search_student(3)\n",
    "\n"
   ]
  },
  {
   "cell_type": "code",
   "execution_count": 35,
   "metadata": {},
   "outputs": [
    {
     "name": "stdout",
     "output_type": "stream",
     "text": [
      "{2: {'name': 'rahul', 'course': 'maths'}, 3: {'name': 'jeena', 'course': 'chemistry'}}\n"
     ]
    }
   ],
   "source": [
    "haa.printing()"
   ]
  },
  {
   "cell_type": "code",
   "execution_count": null,
   "metadata": {},
   "outputs": [],
   "source": []
  }
 ],
 "metadata": {
  "kernelspec": {
   "display_name": "Python 3",
   "language": "python",
   "name": "python3"
  },
  "language_info": {
   "codemirror_mode": {
    "name": "ipython",
    "version": 3
   },
   "file_extension": ".py",
   "mimetype": "text/x-python",
   "name": "python",
   "nbconvert_exporter": "python",
   "pygments_lexer": "ipython3",
   "version": "3.11.4"
  }
 },
 "nbformat": 4,
 "nbformat_minor": 2
}
